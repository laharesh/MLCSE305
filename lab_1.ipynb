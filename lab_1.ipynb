{
  "nbformat": 4,
  "nbformat_minor": 0,
  "metadata": {
    "colab": {
      "provenance": [],
      "authorship_tag": "ABX9TyNihxOlULQiDIkxYeDK/vaQ",
      "include_colab_link": true
    },
    "kernelspec": {
      "name": "python3",
      "display_name": "Python 3"
    },
    "language_info": {
      "name": "python"
    }
  },
  "cells": [
    {
      "cell_type": "markdown",
      "metadata": {
        "id": "view-in-github",
        "colab_type": "text"
      },
      "source": [
        "<a href=\"https://colab.research.google.com/github/laharesh/MLCSE305/blob/main/lab_1.ipynb\" target=\"_parent\"><img src=\"https://colab.research.google.com/assets/colab-badge.svg\" alt=\"Open In Colab\"/></a>"
      ]
    },
    {
      "cell_type": "code",
      "execution_count": 7,
      "metadata": {
        "colab": {
          "base_uri": "https://localhost:8080/"
        },
        "id": "1NQ-cV9neY4j",
        "outputId": "7225966e-dd16-4e4b-c58e-bfb48410bf72"
      },
      "outputs": [
        {
          "output_type": "stream",
          "name": "stdout",
          "text": [
            "5\n",
            "20\n",
            "<class 'int'>\n",
            "5\n"
          ]
        }
      ],
      "source": [
        "print(2+3)\n",
        "a=20\n",
        "print(a)\n",
        "print(type(a))\n",
        "b=\"littu\"\n",
        "print(len(b))"
      ]
    },
    {
      "cell_type": "code",
      "source": [
        "x = 3\n",
        "print (type(x)) \n",
        "print (x) \n",
        "print (x + 1 ) \n",
        "print (x - 1 ) \n",
        "print (x * 2) \n",
        "print (x ** 2) \n",
        "x += 1\n",
        "print (x) \n",
        "x *= 2\n",
        "print (x ) \n",
        "y = 2.5\n",
        "print (type(y)) \n",
        "print (y, y + 1, y * 2, y ** 2)\n"
      ],
      "metadata": {
        "colab": {
          "base_uri": "https://localhost:8080/"
        },
        "id": "1_c8fVkTgCg5",
        "outputId": "f1c7bc43-3a16-4c5e-a957-db0857311827"
      },
      "execution_count": 8,
      "outputs": [
        {
          "output_type": "stream",
          "name": "stdout",
          "text": [
            "<class 'int'>\n",
            "3\n",
            "4\n",
            "2\n",
            "6\n",
            "9\n",
            "4\n",
            "8\n",
            "<class 'float'>\n",
            "2.5 3.5 5.0 6.25\n"
          ]
        }
      ]
    },
    {
      "cell_type": "code",
      "source": [
        "str1=\"littu\"\n",
        "print(str1.capitalize())\n",
        "print(str1.upper())\n",
        "print(str1.lower())\n",
        "print(str1.rjust(7))\n",
        "print(str1.center(7))\n",
        "print(str1.replace('t','kr'))\n",
        "print('  laharesh   '.strip())"
      ],
      "metadata": {
        "colab": {
          "base_uri": "https://localhost:8080/"
        },
        "id": "-FAEgCO8g-O-",
        "outputId": "149a6a77-5b46-4b9c-b244-f65357b9c925"
      },
      "execution_count": 11,
      "outputs": [
        {
          "output_type": "stream",
          "name": "stdout",
          "text": [
            "Littu\n",
            "LITTU\n",
            "littu\n",
            "  littu\n",
            " littu \n",
            "likrkru\n",
            "laharesh\n"
          ]
        }
      ]
    },
    {
      "cell_type": "code",
      "source": [
        "str1='BCT'\n",
        "for i in str1:\n",
        "  print(i + \"ook\")"
      ],
      "metadata": {
        "colab": {
          "base_uri": "https://localhost:8080/"
        },
        "id": "9qubH35QiSGS",
        "outputId": "f8d979b0-3a80-4b97-af36-1cc2b57199e3"
      },
      "execution_count": 13,
      "outputs": [
        {
          "output_type": "stream",
          "name": "stdout",
          "text": [
            "Book\n",
            "Cook\n",
            "Took\n"
          ]
        }
      ]
    },
    {
      "cell_type": "code",
      "source": [
        "a=[1,3,4,5,'littu','laharesh']\n",
        "b=['littu','laharesh','hhhhh']\n",
        "print(a)\n",
        "for i in b:\n",
        "  print(\"list:\"+i)\n",
        "print(a[-1])\n",
        "print(a[:4])\n",
        "print(a[::2])\n",
        "print(b[::2])\n",
        "print(b[:])\n",
        "print('littu' in a)\n",
        "\n"
      ],
      "metadata": {
        "colab": {
          "base_uri": "https://localhost:8080/"
        },
        "id": "C5ONWMZ4isE3",
        "outputId": "1470bfeb-d62e-413a-895e-0bd9d8abb62e"
      },
      "execution_count": 27,
      "outputs": [
        {
          "output_type": "stream",
          "name": "stdout",
          "text": [
            "[1, 3, 4, 5, 'littu', 'laharesh']\n",
            "list:littu\n",
            "list:laharesh\n",
            "list:hhhhh\n",
            "laharesh\n",
            "[1, 3, 4, 5]\n",
            "[1, 4, 'littu']\n",
            "['littu', 'hhhhh']\n",
            "['littu', 'laharesh', 'hhhhh']\n",
            "True\n"
          ]
        }
      ]
    },
    {
      "cell_type": "code",
      "source": [],
      "metadata": {
        "id": "NdZ5bqvXosc3"
      },
      "execution_count": null,
      "outputs": []
    },
    {
      "cell_type": "code",
      "source": [],
      "metadata": {
        "id": "InIFqF6_iYdf"
      },
      "execution_count": null,
      "outputs": []
    }
  ]
}